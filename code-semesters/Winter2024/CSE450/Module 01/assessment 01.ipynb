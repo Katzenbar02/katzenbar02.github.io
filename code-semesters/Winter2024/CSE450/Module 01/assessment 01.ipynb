{
 "cells": [
  {
   "cell_type": "code",
   "execution_count": null,
   "id": "1901ab8f",
   "metadata": {},
   "outputs": [],
   "source": [
    "#%%\n",
    "import pandas as pd\n",
    "\n",
    "# # Load the dataset into a Pandas data frame\n",
    "netdf = pd.read_csv('netflix_titles.csv')\n",
    "\n",
    "# # Determine the data type of the release_year feature\n",
    "release_year_dtype = netdf['release_year'].dtype\n",
    "print(release_year_dtype)\n",
    "\n",
    "# # Filter the dataset to contain only TV Shows\n",
    "tv_shows = netdf[netdf['type'] == 'TV Show']\n",
    "\n",
    "# # Count the number of TV Shows rated TV-Y7\n",
    "tv_y7_count = tv_shows[tv_shows['rating'] == 'TV-Y7'].shape[0]\n",
    "print(tv_y7_count)\n",
    "\n",
    "# Filter the dataset to contain only TV Shows released between 2000 and 2009\n",
    "tv_shows_2000s = tv_shows[(tv_shows['release_year'] >= 2000) & (tv_shows['release_year'] <= 2009)]\n",
    "\n",
    "# Count the number of TV Shows rated TV-Y7 in the 2000s\n",
    "tv_y7_count_2000s = tv_shows_2000s[tv_shows_2000s['rating'] == 'TV-Y7'].shape[0]\n",
    "print(tv_y7_count_2000s)\n",
    "\n"
   ]
  },
  {
   "cell_type": "code",
   "execution_count": null,
   "id": "203da8ba",
   "metadata": {},
   "outputs": [],
   "source": [
    "cerdf = pd.read_csv('cereal.csv')\n",
    "\n",
    "# Filter the dataset to contain only cereal brands manufactured by Kelloggs\n",
    "kelloggs_cereal = cerdf[cerdf['mfr'] == 'K']\n",
    "\n",
    "# Calculate the median amount of protein in Kelloggs cereal brands\n",
    "median_protein_kelloggs = kelloggs_cereal['protein'].median()\n",
    "\n",
    "print(median_protein_kelloggs)\n",
    "\n",
    "# Calculate the healthiness rating for each cereal\n",
    "cerdf['healthiness'] = (cerdf['protein'] + cerdf['fiber']) / cerdf['sugars']\n",
    "\n",
    "# Filter the dataset to contain only General Mills cereals\n",
    "general_mills_cereal = cerdf[cerdf['mfr'] == 'G']\n",
    "\n",
    "# Calculate the median healthiness value for General Mills cereals\n",
    "median_healthiness_general_mills = round(general_mills_cereal['healthiness'].median(), 2)\n",
    "\n",
    "print(median_healthiness_general_mills)"
   ]
  },
  {
   "cell_type": "code",
   "execution_count": null,
   "id": "3b180e22",
   "metadata": {},
   "outputs": [],
   "source": [
    "titadf = pd.read_csv('titanic.csv')\n",
    "print(titadf.head())\n",
    "\n",
    "# Add a new column called NameGroup containing the first letter of the passenger's surname in lower case\n",
    "titadf['NameGroup'] = titadf['Name'].str[0].str.lower()\n",
    "\n",
    "print(titadf['NameGroup'])\n",
    "\n",
    "# Count the number of passengers with a NameGroup value of 'k'\n",
    "namegroup_k_count = titadf[titadf['NameGroup'] == 'k'].shape[0]\n",
    "print(namegroup_k_count)"
   ]
  }
 ],
 "metadata": {
  "kernelspec": {
   "display_name": "Python 3 (ipykernel)",
   "language": "python",
   "name": "python3"
  },
  "language_info": {
   "codemirror_mode": {
    "name": "ipython",
    "version": 3
   },
   "file_extension": ".py",
   "mimetype": "text/x-python",
   "name": "python",
   "nbconvert_exporter": "python",
   "pygments_lexer": "ipython3",
   "version": "3.11.5"
  }
 },
 "nbformat": 4,
 "nbformat_minor": 5
}
