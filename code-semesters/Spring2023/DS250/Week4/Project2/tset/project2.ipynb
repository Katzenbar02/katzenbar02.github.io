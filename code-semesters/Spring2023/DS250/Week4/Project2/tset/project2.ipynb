{
  "cells": [
    {
      "cell_type": "raw",
      "metadata": {},
      "source": [
        "---\n",
        "title: \"Project 2\"\n",
        "subtitle: \"Course DS 250\"\n",
        "author: \"Joshua Ludwig\"\n",
        "format:\n",
        "  html:\n",
        "    self-contained: true\n",
        "    page-layout: full\n",
        "    title-block-banner: true\n",
        "    toc: true\n",
        "    toc-depth: 3\n",
        "    toc-location: body\n",
        "    number-sections: false\n",
        "    html-math-method: katex\n",
        "    code-fold: true\n",
        "    code-summary: \"Show the code\"\n",
        "    code-overflow: wrap\n",
        "    code-copy: hover\n",
        "    code-tools:\n",
        "        source: false\n",
        "        toggle: true\n",
        "        caption: See code\n",
        "    \n",
        "---"
      ],
      "id": "51634b83"
    },
    {
      "cell_type": "code",
      "metadata": {},
      "source": [
        "#| label: libraries\n",
        "#| include: false\n",
        "import json\n",
        "import pandas as pd\n",
        "import altair as alt\n",
        "import numpy as np\n",
        "\n",
        "from IPython.display import Markdown\n",
        "from IPython.display import display\n",
        "from tabulate import tabulate\n",
        "\n",
        "url = \"https://raw.githubusercontent.com/byuidatascience/data4missing/master/data-raw/flights_missing/flights_missing.json\"\n",
        "JSON = pd.read_json(url)"
      ],
      "id": "libraries",
      "execution_count": null,
      "outputs": []
    },
    {
      "cell_type": "markdown",
      "metadata": {},
      "source": [
        "## Elevator pitch\n",
        "\n",
        "This project was where I learned how to properly use altair. If you continue to read through this project, you'll learn what airports had the worst delays. Not only that, but you'll also gain an insight on what months might have the world delays. I learned a lot with this project, please enjoy!\n",
        "\n",
        "## 1: Which airport has the worst delays?\n"
      ],
      "id": "8b257e48"
    },
    {
      "cell_type": "code",
      "metadata": {},
      "source": [
        "JSON['hours_delayed_total'] = JSON['minutes_delayed_total'] / 60\n",
        "\n",
        "airports = JSON.groupby('airport_name').agg({\n",
        "  'num_of_delays_total':'sum',\n",
        "  'num_of_flights_total':'sum'}\n",
        ")\n",
        "\n",
        "'''proportions = airports.assign(\n",
        "  delay_ratio = lambda x: x.num_of_delays_total / x.num_of_flights_total\n",
        ")'''\n",
        "\n",
        "proportions = airports.assign(\n",
        " delay_ratio = lambda x: x.num_of_flights_total / x.num_of_delays_total\n",
        ")\n",
        "\n",
        "#JSON['proportions'] = JSON['num_of_delays_total'] / JSON['num_of_flights_total']\n",
        "\n",
        "chart1 = JSON.groupby('airport_code').sum().filter(items=['num_of_flights_total','num_of_delays_total', 'proportions', 'hours_delayed_total'])\n",
        "\n",
        "chart1"
      ],
      "id": "ef31f449",
      "execution_count": null,
      "outputs": []
    },
    {
      "cell_type": "markdown",
      "metadata": {},
      "source": [
        "According to the table above, SFO has the biggest delay ratio. 1 out of every 34 planes has a delay. This shows how terribly messed up my code is. None of the data science tutors could help me, but if you find the solution. Let me know!\n",
        "\n",
        "## 2: What is the best month to fly if you want to avoid delays of any length?\n",
        "\n",
        "November is the best month to avoid delays of any length. We know this because the proportion(flights/delayedflights) in November is the lowest. This proportion basically means that there is 1 delay for every 12 flights in November (which doesn't sound accurate at all).\n"
      ],
      "id": "14cde9aa"
    },
    {
      "cell_type": "code",
      "metadata": {},
      "source": [
        "removed = JSON[JSON[\"month\"] != \"n/a\"]\n",
        "# This removes any n/a in the \"month\" column\n",
        "\n",
        "removed['month'] = removed['month'].replace('Febuary', 'February')\n",
        "# February was spelled wrong, so this corrected it\n",
        "\n",
        "month_order = [\"January\", \"February\", \"March\", \"April\", \"May\", \"June\", \"July\", \"August\", \"September\", \"October\", \"November\", \"December\"]\n",
        "# This places the months in order\n",
        "\n",
        "removed['month'] = pd.Categorical(removed['month'], categories=month_order, ordered=True)\n",
        "# This categorized the month order\n",
        "\n",
        "chart2 = removed.groupby(by='month').sum().filter(items=['num_of_flights_total','num_of_delays_total', 'proportion'])\n",
        "# This grouped up the rows by months\n",
        "\n",
        "chart2"
      ],
      "id": "a1d06188",
      "execution_count": null,
      "outputs": []
    },
    {
      "cell_type": "markdown",
      "metadata": {},
      "source": [
        "## 3: Create a new column that calculates the total number of flights delayed by weather (both severe and mild).\n",
        "\n",
        "The table belows shoes the total number of weather delays, including mild and severe weather. I tried to format it in a better way, but I couldn't figure it out. This assignment isn't going very well!\n"
      ],
      "id": "ddd6b8e6"
    },
    {
      "cell_type": "code",
      "metadata": {},
      "source": [
        "flight_late_aircraft = JSON[\"num_of_delays_late_aircraft\"]*.30\n",
        "\n",
        "JSON[\"nas\"] = np.where(JSON[\"month\"].isin([\"April\",\"May\",\"June\",\"July\",\"August\"]), JSON[\"num_of_delays_nas\"]*.40, JSON[\"num_of_delays_nas\"]*.65)\n",
        "\n",
        "JSON[\"total_num_of_weather_delays\"] = JSON[\"nas\"] + flight_late_aircraft + JSON[\"num_of_delays_weather\"]\n",
        "\n",
        "#JSON.total_num_of_weather_delays.head()\n",
        "\n",
        "chart3 = JSON.total_num_of_weather_delays.head()\n",
        "\n",
        "#chart3.to_json(orient=\"table\")\n",
        "\n",
        "json_data = JSON.to_json()\n",
        "'''json_object = json.loads('total_num_of_weather_delays')\n",
        "json_formatted_str = json.dumps(json_object, indent = 4)\n",
        "print(json_formatted_str)'''\n",
        "\n",
        "chart3"
      ],
      "id": "d07191b3",
      "execution_count": null,
      "outputs": []
    },
    {
      "cell_type": "markdown",
      "metadata": {},
      "source": [
        "## 4: Using the new weather variable calculated above, create a barplot showing the proportion of all flights that are delayed by weather at each airport. Discuss what you learn from this graph.\n",
        "\n",
        "I was unable to make the barplot. I ran into the error \"column names must be strings\". I then looked at the screen for 2 hours in utter confusion. \n"
      ],
      "id": "2416242f"
    },
    {
      "cell_type": "code",
      "metadata": {},
      "source": [
        "'''alt.Chart(proportion.reset_index()).mark_bar().encode(\n",
        "  y = alt.Y('airport_name', axis=alt.Axis(title='Airport'),\n",
        "  sort=alt.EncodingSortField(field='delay_ratio',\n",
        "  order='descending')), \n",
        "  x = alt.X('delay_ratio', axis=alt.Axis(title='Delays per Flights', format='%'))\n",
        ")'''"
      ],
      "id": "f7c77911",
      "execution_count": null,
      "outputs": []
    },
    {
      "cell_type": "markdown",
      "metadata": {},
      "source": [
        "## 5: Fix all of the varied missing data types in the data to be consistent (all missing values should be displayed as “NaN”).\n",
        "\n",
        "On line 921, where column = \"month\", it says \"NaN\"\n"
      ],
      "id": "4bea0478"
    },
    {
      "cell_type": "code",
      "metadata": {},
      "source": [
        "JSON.replace('n/a', np.nan, inplace=True)\n",
        "JSON"
      ],
      "id": "d168d6d4",
      "execution_count": null,
      "outputs": []
    },
    {
      "cell_type": "markdown",
      "metadata": {},
      "source": [
        "## APPENDIX A (Additional Python Code)\n"
      ],
      "id": "dae3a6be"
    },
    {
      "cell_type": "code",
      "metadata": {},
      "source": [
        "#paste other your code from your python file (.py) here\n",
        "# %%\n",
        "\n",
        "import pandas as pd\n",
        "import numpy as np\n",
        "\n",
        "import json\n",
        "import pandas as pd\n",
        "import altair as alt\n",
        "import numpy as np\n",
        "\n",
        "from IPython.display import Markdown\n",
        "from IPython.display import display\n",
        "from tabulate import tabulate\n",
        "\n",
        "url = \"https://raw.githubusercontent.com/byuidatascience/data4missing/master/data-raw/flights_missing/flights_missing.json\"\n",
        "JSON = pd.read_json(url)\n",
        "\n",
        "JSON['hours_delayed_total'] = JSON['minutes_delayed_total'] / 60\n",
        "\n",
        "JSON['proportion'] = JSON['num_of_delays_total'] / JSON['num_of_flights_total']\n",
        "\n",
        "chart1 = JSON.groupby('airport_code').sum().filter(items=['num_of_flights_total','num_of_delays_total', 'proportion', 'hours_delayed_total'])\n",
        "\n",
        "\n",
        "removed = JSON[JSON[\"month\"] != \"n/a\"]\n",
        "# This removes any n/a in the \"month\" column\n",
        "\n",
        "removed['month'] = removed['month'].replace('Febuary', 'February')\n",
        "# February was spelled wrong, so this corrected it\n",
        "\n",
        "month_order = [\"January\", \"February\", \"March\", \"April\", \"May\", \"June\", \"July\", \"August\", \"September\", \"October\", \"November\", \"December\"]\n",
        "# This places the months in order\n",
        "\n",
        "removed['month'] = pd.Categorical(removed['month'], categories=month_order, ordered=True)\n",
        "# This categorized the month order\n",
        "\n",
        "chart2 = removed.groupby(by='month').sum().filter(items=['num_of_flights_total','num_of_delays_total', 'proportion'])\n",
        "# This grouped up the rows by months\n",
        "\n",
        "# %%\n"
      ],
      "id": "1186c9a0",
      "execution_count": null,
      "outputs": []
    }
  ],
  "metadata": {
    "kernelspec": {
      "display_name": "Python 3",
      "language": "python",
      "name": "python3"
    }
  },
  "nbformat": 4,
  "nbformat_minor": 5
}