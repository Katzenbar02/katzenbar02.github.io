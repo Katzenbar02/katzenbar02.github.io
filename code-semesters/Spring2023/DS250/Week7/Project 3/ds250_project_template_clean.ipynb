{
  "cells": [
    {
      "cell_type": "raw",
      "id": "ac503573",
      "metadata": {},
      "source": [
        "---\n",
        "title: \"Client Report - [Insert Project Title]\"\n",
        "subtitle: \"Course DS 250\"\n",
        "author: \"[STUDENT NAME]\"\n",
        "format:\n",
        "  html:\n",
        "    self-contained: true\n",
        "    page-layout: full\n",
        "    title-block-banner: true\n",
        "    toc: true\n",
        "    toc-depth: 3\n",
        "    toc-location: body\n",
        "    number-sections: false\n",
        "    html-math-method: katex\n",
        "    code-fold: true\n",
        "    code-summary: \"Show the code\"\n",
        "    code-overflow: wrap\n",
        "    code-copy: hover\n",
        "    code-tools:\n",
        "        source: false\n",
        "        toggle: true\n",
        "        caption: See code\n",
        "    \n",
        "---"
      ]
    },
    {
      "cell_type": "code",
      "execution_count": 2,
      "id": "libraries",
      "metadata": {},
      "outputs": [],
      "source": [
        "#| label: libraries\n",
        "#| include: false\n",
        "import pandas as pd\n",
        "import altair as alt\n",
        "import numpy as np\n",
        "\n",
        "from IPython.display import Markdown\n",
        "from IPython.display import display\n",
        "from tabulate import tabulate"
      ]
    },
    {
      "cell_type": "markdown",
      "id": "98eb9a27",
      "metadata": {},
      "source": [
        "## Elevator pitch\n",
        "\n",
        "_paste your elevator pitch here_\n"
      ]
    },
    {
      "cell_type": "code",
      "execution_count": null,
      "id": "project-data",
      "metadata": {},
      "outputs": [],
      "source": [
        "#| label: project data\n",
        "#| code-summary: Read and format project data\n",
        "# Include and execute your code here\n",
        "dat = pd.read_csv(\"https://github.com/byuidatascience/data4names/raw/master/data-raw/names_year/names_year.csv\")"
      ]
    },
    {
      "cell_type": "markdown",
      "id": "549d0186",
      "metadata": {},
      "source": [
        "__Highlight the grand questions__\n",
        "\n",
        "## GRAND QUESTION 1\n",
        "\n",
        "__COPY PASTE GRAND QUESTION 1 FROM THE PROJECT HERE__\n",
        "\n",
        "_type your results and analysis here_\n"
      ]
    },
    {
      "cell_type": "code",
      "execution_count": null,
      "id": "GQ1",
      "metadata": {},
      "outputs": [],
      "source": [
        "#| label: GQ1\n",
        "#| code-summary: Read and format data\n",
        "# Include and execute your code here\n"
      ]
    },
    {
      "cell_type": "markdown",
      "id": "c619a789",
      "metadata": {},
      "source": [
        "_include figures in chunks and discuss your findings in the figure._\n"
      ]
    },
    {
      "cell_type": "code",
      "execution_count": 3,
      "id": "GQ1-chart",
      "metadata": {},
      "outputs": [
        {
          "ename": "NameError",
          "evalue": "name 'dat' is not defined",
          "output_type": "error",
          "traceback": [
            "\u001b[1;31m---------------------------------------------------------------------------\u001b[0m",
            "\u001b[1;31mNameError\u001b[0m                                 Traceback (most recent call last)",
            "Cell \u001b[1;32mIn[3], line 6\u001b[0m\n\u001b[0;32m      1\u001b[0m \u001b[39m#| label: GQ1 chart\u001b[39;00m\n\u001b[0;32m      2\u001b[0m \u001b[39m#| code-summary: plot example\u001b[39;00m\n\u001b[0;32m      3\u001b[0m \u001b[39m#| fig-cap: My useless chart\u001b[39;00m\n\u001b[0;32m      4\u001b[0m \u001b[39m#| fig-align: center\u001b[39;00m\n\u001b[0;32m      5\u001b[0m \u001b[39m# Include and execute your code here\u001b[39;00m\n\u001b[1;32m----> 6\u001b[0m alt\u001b[39m.\u001b[39mChart(dat\u001b[39m.\u001b[39mhead(\u001b[39m200\u001b[39m))\\\n\u001b[0;32m      7\u001b[0m     \u001b[39m.\u001b[39mencode(x\u001b[39m=\u001b[39m\u001b[39m\"\u001b[39m\u001b[39mname\u001b[39m\u001b[39m\"\u001b[39m, y\u001b[39m=\u001b[39m\u001b[39m\"\u001b[39m\u001b[39mAK\u001b[39m\u001b[39m\"\u001b[39m)\\\n\u001b[0;32m      8\u001b[0m     \u001b[39m.\u001b[39mmark_bar()\\\n\u001b[0;32m      9\u001b[0m     \u001b[39m.\u001b[39mproperties(\n\u001b[0;32m     10\u001b[0m         width\u001b[39m=\u001b[39m\u001b[39m800\u001b[39m,\n\u001b[0;32m     11\u001b[0m         height\u001b[39m=\u001b[39m\u001b[39m300\u001b[39m\n\u001b[0;32m     12\u001b[0m     )\n",
            "\u001b[1;31mNameError\u001b[0m: name 'dat' is not defined"
          ]
        }
      ],
      "source": [
        "#| label: GQ1 chart\n",
        "#| code-summary: plot example\n",
        "#| fig-cap: My useless chart\n",
        "#| fig-align: center\n",
        "# Include and execute your code here\n",
        "alt.Chart(dat.head(200))\\\n",
        "    .encode(x=\"name\", y=\"AK\")\\\n",
        "    .mark_bar()\\\n",
        "    .properties(\n",
        "        width=800,\n",
        "        height=300\n",
        "    )"
      ]
    },
    {
      "cell_type": "code",
      "execution_count": 4,
      "id": "GQ1-table",
      "metadata": {},
      "outputs": [
        {
          "ename": "NameError",
          "evalue": "name 'dat' is not defined",
          "output_type": "error",
          "traceback": [
            "\u001b[1;31m---------------------------------------------------------------------------\u001b[0m",
            "\u001b[1;31mNameError\u001b[0m                                 Traceback (most recent call last)",
            "Cell \u001b[1;32mIn[4], line 6\u001b[0m\n\u001b[0;32m      1\u001b[0m \u001b[39m#| label: GQ1 table\u001b[39;00m\n\u001b[0;32m      2\u001b[0m \u001b[39m#| code-summary: table example\u001b[39;00m\n\u001b[0;32m      3\u001b[0m \u001b[39m#| tbl-cap: Not much of a table\u001b[39;00m\n\u001b[0;32m      4\u001b[0m \u001b[39m#| tbl-cap-location: top\u001b[39;00m\n\u001b[0;32m      5\u001b[0m \u001b[39m# Include and execute your code here\u001b[39;00m\n\u001b[1;32m----> 6\u001b[0m mydat \u001b[39m=\u001b[39m dat\u001b[39m.\u001b[39mhead(\u001b[39m1000\u001b[39m)\\\n\u001b[0;32m      7\u001b[0m     \u001b[39m.\u001b[39mgroupby(\u001b[39m'\u001b[39m\u001b[39myear\u001b[39m\u001b[39m'\u001b[39m)\\\n\u001b[0;32m      8\u001b[0m     \u001b[39m.\u001b[39msum()\\\n\u001b[0;32m      9\u001b[0m     \u001b[39m.\u001b[39mreset_index()\\\n\u001b[0;32m     10\u001b[0m     \u001b[39m.\u001b[39mtail(\u001b[39m10\u001b[39m)\\\n\u001b[0;32m     11\u001b[0m     \u001b[39m.\u001b[39mfilter([\u001b[39m\"\u001b[39m\u001b[39myear\u001b[39m\u001b[39m\"\u001b[39m, \u001b[39m\"\u001b[39m\u001b[39mAK\u001b[39m\u001b[39m\"\u001b[39m,\u001b[39m\"\u001b[39m\u001b[39mAR\u001b[39m\u001b[39m\"\u001b[39m])\n\u001b[0;32m     13\u001b[0m display(mydat)\n",
            "\u001b[1;31mNameError\u001b[0m: name 'dat' is not defined"
          ]
        }
      ],
      "source": [
        "#| label: GQ1 table\n",
        "#| code-summary: table example\n",
        "#| tbl-cap: Not much of a table\n",
        "#| tbl-cap-location: top\n",
        "# Include and execute your code here\n",
        "mydat = dat.head(1000)\\\n",
        "    .groupby('year')\\\n",
        "    .sum()\\\n",
        "    .reset_index()\\\n",
        "    .tail(10)\\\n",
        "    .filter([\"year\", \"AK\",\"AR\"])\n",
        "\n",
        "display(mydat)"
      ]
    },
    {
      "cell_type": "markdown",
      "id": "e5a3673a",
      "metadata": {},
      "source": [
        "## GRAND QUESTION 2\n",
        "\n",
        "__COPY PASTE GRAND QUESTION FROM THE PROJECT HERE__\n",
        "\n",
        "_type your results and analysis here_\n"
      ]
    },
    {
      "cell_type": "code",
      "execution_count": null,
      "id": "GQ2",
      "metadata": {},
      "outputs": [],
      "source": [
        "#| label: GQ2\n",
        "#| code-summary: Read and format data\n",
        "# Include and execute your code here\n"
      ]
    },
    {
      "cell_type": "markdown",
      "id": "cde96b57",
      "metadata": {},
      "source": [
        "_include figures in chunks and discuss your findings in the figure._\n"
      ]
    },
    {
      "cell_type": "code",
      "execution_count": null,
      "id": "GQ2-chart",
      "metadata": {},
      "outputs": [],
      "source": [
        "#| label: GQ2 chart\n",
        "#| code-summary: plot example\n",
        "#| fig-cap: My useless chart\n",
        "#| fig-align: center\n",
        "# Include and execute your code here\n",
        "alt.Chart(dat.head(200))\\\n",
        "    .encode(x = \"name\", y = \"AK\")\\\n",
        "    .mark_bar()"
      ]
    },
    {
      "cell_type": "code",
      "execution_count": null,
      "id": "GQ2-table",
      "metadata": {},
      "outputs": [],
      "source": [
        "#| label: GQ2 table\n",
        "#| code-summary: table example\n",
        "#| tbl-cap: Not much of a table\n",
        "#| tbl-cap-location: top\n",
        "# Include and execute your code here\n",
        "mydat = dat.head(1000)\\\n",
        "    .groupby('year')\\\n",
        "    .sum()\\\n",
        "    .reset_index()\\\n",
        "    .tail(10)\\\n",
        "    .filter([\"year\", \"AK\",\"AR\"])\n",
        "\n",
        "display(mydat)"
      ]
    },
    {
      "cell_type": "markdown",
      "id": "c1eb4bee",
      "metadata": {},
      "source": [
        "## GRAND QUESTION 3\n",
        "\n",
        "__COPY PASTE GRAND QUESTION FROM THE PROJECT HERE__\n",
        "\n",
        "_type your results and analysis here_\n"
      ]
    },
    {
      "cell_type": "code",
      "execution_count": null,
      "id": "GQ3",
      "metadata": {},
      "outputs": [],
      "source": [
        "#| label: GQ3\n",
        "#| code-summary: Read and format data\n",
        "# Include and execute your code here\n"
      ]
    },
    {
      "cell_type": "markdown",
      "id": "3bc00a35",
      "metadata": {},
      "source": [
        "_include figures in chunks and discuss your findings in the figure._\n"
      ]
    },
    {
      "cell_type": "code",
      "execution_count": null,
      "id": "GQ3-chart",
      "metadata": {},
      "outputs": [],
      "source": [
        "#| label: GQ3 chart\n",
        "#| code-summary: plot example\n",
        "#| fig-cap: My useless chart\n",
        "#| fig-align: center\n",
        "# Include and execute your code here\n",
        "alt.Chart(dat.head(200))\\\n",
        "    .encode(x = \"name\", y = \"AK\")\\\n",
        "    .mark_bar()"
      ]
    },
    {
      "cell_type": "code",
      "execution_count": null,
      "id": "GQ3-table",
      "metadata": {},
      "outputs": [],
      "source": [
        "#| label: GQ3 table\n",
        "#| code-summary: table example\n",
        "#| tbl-cap: Not much of a table\n",
        "#| tbl-cap-location: top\n",
        "# Include and execute your code here\n",
        "mydat = dat.head(1000)\\\n",
        "    .groupby('year')\\\n",
        "    .sum()\\\n",
        "    .reset_index()\\\n",
        "    .tail(10)\\\n",
        "    .filter([\"year\", \"AK\",\"AR\"])\n",
        "\n",
        "display(mydat)"
      ]
    },
    {
      "cell_type": "markdown",
      "id": "159b9258",
      "metadata": {},
      "source": [
        "## APPENDIX A (Additional Python Code)\n",
        "\n",
        "```python\n",
        "#paste other your code from your python file (.py) here\n",
        "```"
      ]
    }
  ],
  "metadata": {
    "kernelspec": {
      "display_name": "Python 3",
      "language": "python",
      "name": "python3"
    },
    "language_info": {
      "codemirror_mode": {
        "name": "ipython",
        "version": 3
      },
      "file_extension": ".py",
      "mimetype": "text/x-python",
      "name": "python",
      "nbconvert_exporter": "python",
      "pygments_lexer": "ipython3",
      "version": "3.11.4"
    }
  },
  "nbformat": 4,
  "nbformat_minor": 5
}
